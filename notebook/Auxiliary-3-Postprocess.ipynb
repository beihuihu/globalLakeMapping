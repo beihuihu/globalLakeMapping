{
 "cells": [
  {
   "cell_type": "markdown",
   "metadata": {},
   "source": [
    "Auther: Beihui Hu"
   ]
  },
  {
   "cell_type": "code",
   "execution_count": null,
   "metadata": {},
   "outputs": [],
   "source": [
    "import rasterio  \n",
    "import rasterio.mask\n",
    "import geopandas as gps\n",
    "import os\n",
    "import time\n",
    "import shutil\n",
    "from shapely.geometry import box"
   ]
  },
  {
   "cell_type": "code",
   "execution_count": null,
   "metadata": {},
   "outputs": [],
   "source": [
    "auxiliary_data_dir=r''\n",
    "land_polygon_dir=r''\n",
    "base_dir=r''\n",
    "output_prefix='pre_'\n",
    "raw_prediction_dir=os.path.join(base_dir,'tif')\n",
    "after_land_mask_dir=os.path.join(base_dir,'after_land_mask')\n",
    "after_river_mask_dir=os.path.join(base_dir,'after_river_mask')"
   ]
  },
  {
   "cell_type": "markdown",
   "metadata": {},
   "source": [
    "## 1. land mask"
   ]
  },
  {
   "cell_type": "code",
   "execution_count": null,
   "metadata": {
    "scrolled": true
   },
   "outputs": [],
   "source": [
    "start_id=1\n",
    "end_id=start_id+50\n",
    "start=time.time()\n",
    "for index in range(start_id,end_id):  \n",
    "    raw_pre_dir=os.path.join(raw_prediction_dir,f'{output_prefix}{index}.tif')\n",
    "    out_pre_dir=os.path.join(after_land_mask_dir,f'{output_prefix}{index}_alm.tif')\n",
    "    raw_prediction_image=rasterio.open(raw_pre_dir)\n",
    "    bbox = box(*raw_prediction_image.bounds)\n",
    "    meta=raw_prediction_image.meta\n",
    "    meta.update({\"compress\": 'lzw'})\n",
    "    land_mask = gps.read_file(land_polygon_dir, bbox=bbox) \n",
    "    mask_patch_geojson = land_mask.geometry.values \n",
    " # perform land mask\n",
    "    if len(mask_patch_geojson) > 0:\n",
    "        modelpredtictions_masked, out_meta = rasterio.mask.mask(raw_prediction_image, mask_patch_geojson, all_touched=True, invert=False)\n",
    "        print(f'Mask finished: {index} / {end_id-1}')\n",
    "        with rasterio.open(out_pre_dir, \"w\", **meta) as prediction_masked:\n",
    "            prediction_masked.write(modelpredtictions_masked)\n",
    "    \n",
    "end=time.time()\n",
    "print(f'time:{end-start}')"
   ]
  },
  {
   "cell_type": "markdown",
   "metadata": {},
   "source": [
    "## 2. river mask"
   ]
  },
  {
   "cell_type": "code",
   "execution_count": null,
   "metadata": {},
   "outputs": [],
   "source": [
    "start_id=1\n",
    "end_id=start_id+50\n",
    "start=time.time()\n",
    "for index in range(start_id,end_id):  \n",
    "    raw_pre_dir=os.path.join(after_land_mask_dir,f'{output_prefix}_{index}_alm.tif')\n",
    "    out_pre_dir=os.path.join(after_river_mask_dir,f'{output_prefix}_{index}_arm.tif')\n",
    "    if os.path.exists(raw_pre_dir):\n",
    "        raw_prediction_image=rasterio.open(raw_pre_dir)\n",
    "        bbox = box(*raw_prediction_image.bounds)\n",
    "        meta=raw_prediction_image.meta\n",
    "        meta.update({\"compress\": 'lzw'})\n",
    "        grwl_patch = gps.read_file(auxiliary_data_dir,layer='GRWL_DNRiver',bbox=bbox) \n",
    "        osm_patch = gps.read_file(auxiliary_data_dir,layer='osm_natural_water_river',bbox=bbox) \n",
    "        river_mask=grwl_patch._append(osm_patch)\n",
    "        mask_patch_geojson = river_mask.geometry.values \n",
    "     # perform land mask\n",
    "        if len(mask_patch_geojson) > 0:\n",
    "            modelpredtictions_masked, out_meta = rasterio.mask.mask(raw_prediction_image, mask_patch_geojson, all_touched=True, invert=True)\n",
    "            print(f'Mask finished: {index} / {end_id-1}')\n",
    "            with rasterio.open(out_pre_dir, \"w\", **meta) as prediction_masked:\n",
    "                prediction_masked.write(modelpredtictions_masked)\n",
    "        else:\n",
    "            shutil.copy(raw_pre_dir,out_pre_dir)\n",
    "\n",
    "end=time.time()\n",
    "print(f'time:{end-start}')"
   ]
  }
 ],
 "metadata": {
  "kernelspec": {
   "display_name": "GLAKESplus_env",
   "language": "python",
   "name": "glakesplus_env"
  },
  "language_info": {
   "codemirror_mode": {
    "name": "ipython",
    "version": 3
   },
   "file_extension": ".py",
   "mimetype": "text/x-python",
   "name": "python",
   "nbconvert_exporter": "python",
   "pygments_lexer": "ipython3",
   "version": "3.8.20"
  }
 },
 "nbformat": 4,
 "nbformat_minor": 4
}
